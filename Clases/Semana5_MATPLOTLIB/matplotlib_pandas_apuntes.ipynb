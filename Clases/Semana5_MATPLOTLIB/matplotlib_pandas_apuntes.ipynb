{
 "cells": [
  {
   "cell_type": "markdown",
   "metadata": {
    "colab_type": "text",
    "id": "view-in-github"
   },
   "source": [
    "<a href=\"https://colab.research.google.com/github/lsantiago/PythonIntermedio/blob/master/Clases/Semana5_MATPLOTLIB/matplotlib_pandas_apuntes.ipynb\" target=\"_parent\"><img src=\"https://colab.research.google.com/assets/colab-badge.svg\" alt=\"Open In Colab\"/></a>"
   ]
  },
  {
   "cell_type": "markdown",
   "metadata": {
    "id": "Dg3mYLa3uN2y"
   },
   "source": [
    "<img src=\"https://github.com/lsantiago/PythonIntermedio/blob/master/Clases/Semana5_MATPLOTLIB/img/logo2.webp?raw=1\">"
   ]
  },
  {
   "cell_type": "markdown",
   "metadata": {
    "id": "Fh47OzftuN24"
   },
   "source": [
    "Es una biblioteca de trazado muy poderosa. Veamos primero cómo se estructura una gráfica en general y el vocabulario asociado con sus elementos. \n",
    "\n",
    "Más detalles sobre los conceptos básicos de matplotlib los encuentra en la [guía de uso](https://matplotlib.org/tutorials/introductory/usage.html#sphx-glr-tutorials-introductory-usage-py)\n",
    "\n",
    "Los [tutoriales](https://matplotlib.org/tutorials/index.html) y [ejemplos](https://matplotlib.org/gallery/index.html) páginas son también vale la pena mirar.."
   ]
  },
  {
   "cell_type": "markdown",
   "metadata": {
    "id": "pxR3oM6JuN26"
   },
   "source": [
    "<img src=\"https://github.com/lsantiago/PythonIntermedio/blob/master/Clases/Semana5_MATPLOTLIB/img/matplotlib_structure.png?raw=1\">\n",
    "<img src=\"https://github.com/lsantiago/PythonIntermedio/blob/master/Clases/Semana5_MATPLOTLIB/img/anatomy.png?raw=1\">\n"
   ]
  },
  {
   "cell_type": "markdown",
   "metadata": {
    "id": "BmkEdOXiuN26"
   },
   "source": [
    "## Lineas"
   ]
  },
  {
   "cell_type": "markdown",
   "metadata": {
    "id": "KlUVmVt5uN27"
   },
   "source": [
    "Comencemos con un ejemplo simple. Queremos echar un vistazo a las series de tiempo de los datos de temperatura en un diagrama lineal simple:"
   ]
  },
  {
   "cell_type": "code",
   "execution_count": null,
   "metadata": {
    "id": "WSwk4iIkuN28"
   },
   "outputs": [],
   "source": [
    "import pandas as pd\n",
    "import matplotlib.pyplot as plt\n",
    "\n",
    "\n",
    "\n",
    "\n"
   ]
  },
  {
   "cell_type": "code",
   "execution_count": 3,
   "metadata": {
    "id": "FK2tsmt_uN3B"
   },
   "outputs": [],
   "source": [
    "\n",
    "# Descarga de datos (formato raw) desde pastebin\n",
    "#_ = !wget -O frankfurt_weather.csv https://pastebin.com/raw/GnLS1WR8\n",
    "\n",
    "# Lectura de datos desde archivo\n",
    "data = pd.read_csv('frankfurt_weather.csv', parse_dates=['time'], index_col='time', sep=',', na_values='')"
   ]
  },
  {
   "cell_type": "code",
   "execution_count": 4,
   "metadata": {
    "colab": {
     "base_uri": "https://localhost:8080/",
     "height": 228
    },
    "id": "tK0vY1XduN3I",
    "outputId": "7f847bb1-1be5-4469-8a50-3b4030cd9373"
   },
   "outputs": [
    {
     "data": {
      "text/html": [
       "<div>\n",
       "<style scoped>\n",
       "    .dataframe tbody tr th:only-of-type {\n",
       "        vertical-align: middle;\n",
       "    }\n",
       "\n",
       "    .dataframe tbody tr th {\n",
       "        vertical-align: top;\n",
       "    }\n",
       "\n",
       "    .dataframe thead th {\n",
       "        text-align: right;\n",
       "    }\n",
       "</style>\n",
       "<table border=\"1\" class=\"dataframe\">\n",
       "  <thead>\n",
       "    <tr style=\"text-align: right;\">\n",
       "      <th></th>\n",
       "      <th>visibility</th>\n",
       "      <th>air_temperature</th>\n",
       "      <th>dewpoint</th>\n",
       "      <th>wind_direction</th>\n",
       "      <th>wind_speed</th>\n",
       "      <th>air_pressure</th>\n",
       "      <th>cloud_height</th>\n",
       "      <th>cloud_cover</th>\n",
       "    </tr>\n",
       "    <tr>\n",
       "      <th>time</th>\n",
       "      <th></th>\n",
       "      <th></th>\n",
       "      <th></th>\n",
       "      <th></th>\n",
       "      <th></th>\n",
       "      <th></th>\n",
       "      <th></th>\n",
       "      <th></th>\n",
       "    </tr>\n",
       "  </thead>\n",
       "  <tbody>\n",
       "    <tr>\n",
       "      <th>2015-01-01 00:20:00</th>\n",
       "      <td>2800</td>\n",
       "      <td>1.0</td>\n",
       "      <td>1.0</td>\n",
       "      <td>0.0</td>\n",
       "      <td>0</td>\n",
       "      <td>1036.0</td>\n",
       "      <td>200.0</td>\n",
       "      <td>OVC</td>\n",
       "    </tr>\n",
       "    <tr>\n",
       "      <th>2015-01-01 00:50:00</th>\n",
       "      <td>1500</td>\n",
       "      <td>1.0</td>\n",
       "      <td>1.0</td>\n",
       "      <td>0.0</td>\n",
       "      <td>0</td>\n",
       "      <td>1036.0</td>\n",
       "      <td>100.0</td>\n",
       "      <td>OVC</td>\n",
       "    </tr>\n",
       "    <tr>\n",
       "      <th>2015-01-01 01:20:00</th>\n",
       "      <td>1000</td>\n",
       "      <td>1.0</td>\n",
       "      <td>1.0</td>\n",
       "      <td>0.0</td>\n",
       "      <td>0</td>\n",
       "      <td>1036.0</td>\n",
       "      <td>100.0</td>\n",
       "      <td>OVC</td>\n",
       "    </tr>\n",
       "    <tr>\n",
       "      <th>2015-01-01 01:50:00</th>\n",
       "      <td>700</td>\n",
       "      <td>1.0</td>\n",
       "      <td>1.0</td>\n",
       "      <td>0.0</td>\n",
       "      <td>0</td>\n",
       "      <td>1036.0</td>\n",
       "      <td>NaN</td>\n",
       "      <td>NaN</td>\n",
       "    </tr>\n",
       "    <tr>\n",
       "      <th>2015-01-01 02:20:00</th>\n",
       "      <td>600</td>\n",
       "      <td>1.0</td>\n",
       "      <td>1.0</td>\n",
       "      <td>0.0</td>\n",
       "      <td>0</td>\n",
       "      <td>1036.0</td>\n",
       "      <td>NaN</td>\n",
       "      <td>NaN</td>\n",
       "    </tr>\n",
       "  </tbody>\n",
       "</table>\n",
       "</div>"
      ],
      "text/plain": [
       "                     visibility  air_temperature  ...  cloud_height  cloud_cover\n",
       "time                                              ...                           \n",
       "2015-01-01 00:20:00        2800              1.0  ...         200.0          OVC\n",
       "2015-01-01 00:50:00        1500              1.0  ...         100.0          OVC\n",
       "2015-01-01 01:20:00        1000              1.0  ...         100.0          OVC\n",
       "2015-01-01 01:50:00         700              1.0  ...           NaN          NaN\n",
       "2015-01-01 02:20:00         600              1.0  ...           NaN          NaN\n",
       "\n",
       "[5 rows x 8 columns]"
      ]
     },
     "execution_count": 4,
     "metadata": {
      "tags": []
     },
     "output_type": "execute_result"
    }
   ],
   "source": []
  },
  {
   "cell_type": "markdown",
   "metadata": {
    "id": "WUICbNsuuN3M"
   },
   "source": [
    "Esto nos da un pequeño gráfico lineal agradable con la serie temporal de temperatura representada como una línea azul. Sin embargo, la trama es un poco pequeña, los ejes no están etiquetados y no hay leyenda. Vamos a arreglar eso ..."
   ]
  },
  {
   "cell_type": "code",
   "execution_count": null,
   "metadata": {
    "id": "TkuP98jHuN3M"
   },
   "outputs": [],
   "source": []
  },
  {
   "cell_type": "markdown",
   "metadata": {
    "id": "c_yCY22guN3Q"
   },
   "source": [
    "Esto se ve mejor. Podemos ver que no tenemos que preocuparnos por los detalles de axes y axis del gráfico, ya que pyplot se encarga de ello. Cada vez que hacemos una función pyplot, solo reutiliza axes en la primera llamada de plot.\n",
    "\n",
    "Sin embargo, digamos que no estamos interesados en las fluctuaciones diarias de temperatura.\n",
    "\n",
    "Además, aunque construir manualmente las etiquetas xticks funciona bien, es un poco molesto. Especialmente porque el índice del dataframe de datos (que se usa para el eje x) ya contiene toda la información que necesitamos y solo el formato es incorrecto. Afortunadamente, matplotlib tiene algunas funciones de conveniencia disponibles en su submódulo de fecha que podemos usar si cambiamos al enfoque de \"ejes manuales\".\n",
    "\n",
    "Así que volvamos a muestrear los datos a los medios diarios, formatee las fechas y vuelva a trazarlos"
   ]
  },
  {
   "cell_type": "code",
   "execution_count": null,
   "metadata": {
    "id": "B7UDcSDJuN3R"
   },
   "outputs": [],
   "source": [
    "\n",
    "\n"
   ]
  },
  {
   "cell_type": "markdown",
   "metadata": {
    "id": "GSX-X4vguN3X"
   },
   "source": [
    "También puede poner varias líneas en un `plot`:"
   ]
  },
  {
   "cell_type": "code",
   "execution_count": null,
   "metadata": {
    "id": "KSWxeg4DuN3Y"
   },
   "outputs": [],
   "source": []
  },
  {
   "cell_type": "markdown",
   "metadata": {
    "id": "kDMx1iHRuN3b"
   },
   "source": [
    "Y si no nos gustan los colores o los tipos de línea, podemos elegir diferentes proporcionando los argumentos `c` y `linestyle` a la función de trazado (`plot`):"
   ]
  },
  {
   "cell_type": "code",
   "execution_count": null,
   "metadata": {
    "id": "c3jUOl7guN3c"
   },
   "outputs": [],
   "source": []
  },
  {
   "cell_type": "code",
   "execution_count": null,
   "metadata": {
    "id": "uIMjf0DLuN3f"
   },
   "outputs": [],
   "source": []
  },
  {
   "cell_type": "markdown",
   "metadata": {
    "id": "mNXDL0ZGuN3i"
   },
   "source": [
    "¿Qué sucede si queremos trazar 2 variables en el mismo diagrama que tienen unidades diferentes, por ejemplo, valores de temperatura y presión de aire?\n",
    "\n",
    "Para esto, podemos usar la función twinx(). Crea una segunda subtrama que comparte el eje Y con la primera subtrama:"
   ]
  },
  {
   "cell_type": "code",
   "execution_count": null,
   "metadata": {
    "id": "TTdxIFEBuN3j"
   },
   "outputs": [],
   "source": []
  },
  {
   "cell_type": "markdown",
   "metadata": {
    "id": "WCaUJu4WuN3o"
   },
   "source": [
    "Normalmente, los subplots se usan, sin embargo, para trazar varias figuras una al lado de la otra. Por ejemplo, podemos crear 2 subplots \"ax1\" y \"ax2\", que representan la temperatura y la velocidad del viento una al lado de la otra:"
   ]
  },
  {
   "cell_type": "code",
   "execution_count": null,
   "metadata": {
    "id": "sQ8OsWb0uN3p"
   },
   "outputs": [],
   "source": []
  },
  {
   "cell_type": "markdown",
   "metadata": {
    "id": "R1rOcXiJuN3s"
   },
   "source": [
    "Si desea guardar su figura, simplemente puede llamar a la función savefig() en lugar de show():"
   ]
  },
  {
   "cell_type": "code",
   "execution_count": null,
   "metadata": {
    "id": "-Igptlk9uN3s"
   },
   "outputs": [],
   "source": []
  },
  {
   "cell_type": "markdown",
   "metadata": {
    "id": "jPdbmcObuN3w"
   },
   "source": [
    "### Histogramas"
   ]
  },
  {
   "cell_type": "markdown",
   "metadata": {
    "id": "ILWFAntEuN3w"
   },
   "source": [
    "Para obtener una visión general de la distribución de los valores de temperatura, también podemos trazar un histograma de los datos:"
   ]
  },
  {
   "cell_type": "code",
   "execution_count": null,
   "metadata": {
    "id": "wdkK880huN3x"
   },
   "outputs": [],
   "source": []
  },
  {
   "cell_type": "code",
   "execution_count": null,
   "metadata": {
    "id": "W-PqqxIWuN33"
   },
   "outputs": [],
   "source": []
  },
  {
   "cell_type": "markdown",
   "metadata": {
    "id": "9x9wvvTSuN37"
   },
   "source": [
    "Una vez más, esta trama es agradable y simple, pero podemos hacerlo mejor ..."
   ]
  },
  {
   "cell_type": "code",
   "execution_count": null,
   "metadata": {
    "id": "azZldoIluN38"
   },
   "outputs": [],
   "source": []
  },
  {
   "cell_type": "code",
   "execution_count": null,
   "metadata": {
    "id": "VIsJC3EDuN4A"
   },
   "outputs": [],
   "source": []
  },
  {
   "cell_type": "markdown",
   "metadata": {
    "id": "8-FljVGZuN4E"
   },
   "source": [
    "También podemos trazar varios histogramas dentro de un gráfico, por ejemplo, los valores de temperatura separados en enero y agosto:"
   ]
  },
  {
   "cell_type": "code",
   "execution_count": null,
   "metadata": {
    "id": "7oUd2aOYuN4F"
   },
   "outputs": [],
   "source": []
  },
  {
   "cell_type": "markdown",
   "metadata": {
    "id": "cK88VNQ-uN4P"
   },
   "source": [
    "### Gráfico de dispersión"
   ]
  },
  {
   "cell_type": "markdown",
   "metadata": {
    "id": "JjOYqIQKuN4Q"
   },
   "source": [
    "Otra trama de uso frecuente es el diagrama de dispersión.\n",
    "\n",
    "Usémoslo para trazar los valores de temperatura frente a la presión de aire:"
   ]
  },
  {
   "cell_type": "code",
   "execution_count": null,
   "metadata": {
    "id": "hFyrAc6ZuN4Q"
   },
   "outputs": [],
   "source": []
  },
  {
   "cell_type": "markdown",
   "metadata": {
    "id": "AosyxCGQuN4V"
   },
   "source": [
    "También podemos trazar múltiples diagramas de dispersión uno encima del otro para representar más información dentro de un mismo diagrama.\n",
    "\n",
    "Si hacemos esto con las mediciones de temperatura / presión por separado para enero y agosto, podemos ver que las presiones de aire por debajo de 1000 hPa solo prevalecieron durante enero pero no durante agosto y que el rango de valores de presión de aire fue mucho mayor durante enero que durante agosto:"
   ]
  },
  {
   "cell_type": "code",
   "execution_count": null,
   "metadata": {
    "id": "AzoqWeQJuN4Z"
   },
   "outputs": [],
   "source": []
  },
  {
   "cell_type": "markdown",
   "metadata": {
    "id": "yUtXHpsauN4i"
   },
   "source": [
    "Hay muchas más opciones que puede ajustar para obtener un aspecto agradable listo para imprimir la trama. Y, por supuesto, hay muchos más tipos de gráficos (por ejemplo, gráficos de barras, gráficos de cajas, gráficos 3D, ...) No los cubriremos todos aquí, pero puede consultar la documentación de [matplotlib](https://matplotlib.org/contents.html) .\n",
    "\n",
    "Además, hay muchas más bibliotecas de trazado que cubren todo tipo de rutinas de trazado útiles, por ejemplo, para trazar datos de viento ..."
   ]
  },
  {
   "cell_type": "markdown",
   "metadata": {
    "id": "KAccxG8uuN4j"
   },
   "source": [
    "### Windroses (Rosa de vientos)\n",
    "\n",
    "Con la extensión windrose , puede trazar fácilmente los datos del viento en un gráfico típico de rosa de los vientos:"
   ]
  },
  {
   "cell_type": "code",
   "execution_count": null,
   "metadata": {
    "id": "fJtMaFuNuN4j"
   },
   "outputs": [],
   "source": []
  },
  {
   "cell_type": "code",
   "execution_count": null,
   "metadata": {
    "id": "wLK6HzEvuN4p"
   },
   "outputs": [],
   "source": []
  },
  {
   "cell_type": "markdown",
   "metadata": {
    "id": "kYO1cB90uN4t"
   },
   "source": [
    "### Problema\n",
    "Cree un diagrama lineal simple de los valores de velocidad del viento de febrero de 2015.\n",
    "Cree un histograma simple de los mismos datos.\n",
    "\n"
   ]
  },
  {
   "cell_type": "markdown",
   "metadata": {
    "id": "KbyvNUK_uN4v"
   },
   "source": [
    "### Referencias adicionales\n",
    "- https://towardsdatascience.com/data-visualization-with-python-8bc988e44f22\n",
    "- https://towardsdatascience.com/advanced-plots-in-matplotlib-part-2-e88f91ce9e31"
   ]
  }
 ],
 "metadata": {
  "colab": {
   "include_colab_link": true,
   "name": "matplotlib_pandas_apuntes.ipynb",
   "provenance": [],
   "toc_visible": true
  },
  "kernelspec": {
   "display_name": "Python 3",
   "language": "python",
   "name": "python3"
  },
  "language_info": {
   "codemirror_mode": {
    "name": "ipython",
    "version": 3
   },
   "file_extension": ".py",
   "mimetype": "text/x-python",
   "name": "python",
   "nbconvert_exporter": "python",
   "pygments_lexer": "ipython3",
   "version": "3.7.6"
  }
 },
 "nbformat": 4,
 "nbformat_minor": 4
}
